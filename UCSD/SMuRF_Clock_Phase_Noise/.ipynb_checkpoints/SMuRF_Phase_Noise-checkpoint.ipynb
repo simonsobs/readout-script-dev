{
 "cells": [
  {
   "cell_type": "code",
   "execution_count": 21,
   "metadata": {},
   "outputs": [],
   "source": [
    "import numpy as np\n",
    "import matplotlib.pyplot as plt"
   ]
  },
  {
   "cell_type": "code",
   "execution_count": 55,
   "metadata": {},
   "outputs": [],
   "source": [
    "dir = '/home/msilvafe/Documents/SMuRF_Clock_Phase_Noise/Baseline/'\n",
    "dat1 = np.genfromtxt(f'{dir}Baseline_Tone_No_ExtClk_4p25_100kBW.csv',\n",
    "                     delimiter=',',skip_header=32,skip_footer=1)"
   ]
  },
  {
   "cell_type": "code",
   "execution_count": 56,
   "metadata": {},
   "outputs": [
    {
     "data": {
      "text/plain": [
       "[<matplotlib.lines.Line2D at 0x7ff780df2cf8>]"
      ]
     },
     "execution_count": 56,
     "metadata": {},
     "output_type": "execute_result"
    },
    {
     "data": {
      "image/png": "[encoded data removed]",
      "text/plain": [
       "<Figure size 432x288 with 1 Axes>"
      ]
     },
     "metadata": {
      "needs_background": "light"
     },
     "output_type": "display_data"
    }
   ],
   "source": [
    "plt.plot(dat1[:,0],dat1[:,1])"
   ]
  },
  {
   "cell_type": "code",
   "execution_count": 25,
   "metadata": {},
   "outputs": [],
   "source": [
    "#For data taken w/ all channels on there are 1256 on\n",
    "#1 AMC (AMC1) has LPF and other does not (one we're generating 4.25G Tone on)\n",
    "out_dict = {}\n",
    "out_dict['Baseline'] = {}\n",
    "out_dict['Baseline']['122.88_MHz'] = {}\n",
    "out_dict['Baseline']['122.88_MHz']['With Filter'] = {}\n",
    "out_dict['Baseline']['122.88_MHz']['With Filter']['1MHz BW'] = 'Baseline_SA_122p88_MHz_1MHz_BW.csv'\n",
    "out_dict['Baseline']['122.88_MHz']['With Filter']['100kHz BW'] = 'Baseline_SA_122p88_MHz_100kHz_BW.csv'\n",
    "out_dict['Baseline']['122.88_MHz']['With Filter']['1GHz BW'] = 'Baseline_SA_122p88_MHz_100kHz_BW.csv'\n",
    "out_dict['Baseline']['122.88_MHz']['No Filter'] = {}\n",
    "out_dict['Baseline']['122.88_MHz']['No Filter']['1GHz BW'] = 'Baseline_Tone_No_Filt_122p88_1GBW.csv'\n",
    "out_dict['Baseline']['122.88_MHz']['No Filter']['100kHz BW'] = 'Baseline_Tone_No_Filt_122p88_100kBW.csv'\n",
    "out_dict['Baseline']['122.88_MHz']['No Filter']['1MHz BW'] = 'Baseline_Tone_No_Filt_122p88_1MHzBW.csv'\n",
    "\n",
    "out_dict['Baseline']['4.25_GHz'] = {}\n",
    "out_dict['Baseline']['4.25_GHz']['SA_Only'] = {}\n",
    "out_dict['Baseline']['4.25_GHz']['SA_Only']['1MHz BW'] = 'Baseline_SA_4p25_MHz_1MHz_BW.csv'\n",
    "out_dict['Baseline']['4.25_GHz']['SA_Only']['100kHz BW'] = 'Baseline_SA_4p25_MHz_1MHz_BW.csv'\n",
    "out_dict['Baseline']['4.25_GHz']['With Filter'] = {}\n",
    "out_dict['Baseline']['4.25_GHz']['With Filter']['1MHz BW'] = 'Baseline_Tone_With_Filt_4p25_1MHzBW.csvBaseline_Tone_With_Filt_4p25_1MHzBW.csv'\n",
    "out_dict['Baseline']['4.25_GHz']['With Filter']['100kHz BW'] = 'Baseline_Tone_With_Filt_4p25_100kBW.csv'\n",
    "out_dict['Baseline']['4.25_GHz']['No Filter'] = {}\n",
    "\n",
    "out_dict['Baseline']['4.25_GHz']['No Clock'] = {}\n",
    "out_dict['Baseline']['4.25_GHz']['No Clock']['100kHz BW'] = 'Baseline_Tone_No_ExtClk_4p25_100kBW.csv'\n",
    "\n",
    "out_dict['Baseline']['4.25_GHz']['All_Relock'] = {}\n",
    "out_dict['Baseline']['4.25_GHz']['All_Relock']['In'] = {}\n",
    "out_dict['Baseline']['4.25_GHz']['All_Relock']['Tone Off']['In'] = {}\n",
    "out_dict['Baseline']['4.25_GHz']['All_Relock']['Tone Off']['In']['100kHz BW'] = 'Baseline_AllRelock_In_Coupler_4p25_100k.csv'\n",
    "out_dict['Baseline']['4.25_GHz']['All_Relock']['Tone Off']['In']['1MHz BW'] = 'Baseline_AllRelock_In_Coupler_4p25_1M.csv'\n",
    "out_dict['Baseline']['4.25_GHz']['All_Relock']['Tone On']['In'] = {}\n",
    "out_dict['Baseline']['4.25_GHz']['All_Relock']['Tone On']['In']['100kHz BW'] = 'Baseline_Tone_In_Coupler_4p25_100kBW.csv'\n",
    "out_dict['Baseline']['4.25_GHz']['All_Relock']['Tone On']['In']['1MHz BW'] = 'Baseline_Tone_In_Coupler_4p25_100kBW.csv'\n",
    "out_dict['Baseline']['4.25_GHz']['All_Relock']['Out'] = {}\n",
    "out_dict['Baseline']['4.25_GHz']['All_Relock']['Out']['Tone Off'] = {}\n",
    "out_dict['Baseline']['4.25_GHz']['All_Relock']['Out']['Tone Off']['100kHz BW'] = 'Baseline_AllRelock_Out_Coupler_4p25_100k.csv'\n",
    "out_dict['Baseline']['4.25_GHz']['All_Relock']['Out']['Tone Off']['1MHz BW'] = 'Baseline_AllRelock_Out_Coupler_4p25_1M.csv'\n",
    "out_dict['Baseline']['4.25_GHz']['All_Relock']['Out']['Tone Off']['10MHz BW'] = 'Baseline_AllRelock_Out_Coupler_4p25.csv'\n",
    "out_dict['Baseline']['4.25_GHz']['All_Relock']['Out']['Tone On'] = {}\n",
    "out_dict['Baseline']['4.25_GHz']['All_Relock']['Out']['Tone On']['1MHz BW'] = 'Baseline_Tone_Out_Coupler_4p25_1MBW.csv'\n"
   ]
  },
  {
   "cell_type": "code",
   "execution_count": null,
   "metadata": {},
   "outputs": [],
   "source": []
  }
 ],
 "metadata": {
  "kernelspec": {
   "display_name": "Python 3",
   "language": "python",
   "name": "python3"
  },
  "language_info": {
   "codemirror_mode": {
    "name": "ipython",
    "version": 3
   },
   "file_extension": ".py",
   "mimetype": "text/x-python",
   "name": "python",
   "nbconvert_exporter": "python",
   "pygments_lexer": "ipython3",
   "version": "3.6.9"
  }
 },
 "nbformat": 4,
 "nbformat_minor": 4
}
