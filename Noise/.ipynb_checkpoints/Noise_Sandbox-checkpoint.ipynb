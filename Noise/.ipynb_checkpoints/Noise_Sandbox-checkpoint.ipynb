{
 "cells": [
  {
   "cell_type": "markdown",
   "metadata": {},
   "source": [
    "Import packages"
   ]
  },
  {
   "cell_type": "code",
   "execution_count": 3,
   "metadata": {},
   "outputs": [],
   "source": [
    "import numpy as np\n",
    "import matplotlib.pyplot as plt\n",
    "import scipy as sp\n",
    "import pandas as pd\n",
    "import csv\n",
    "from numpy import genfromtxt\n",
    "from math import pi\n",
    "plt.ion()\n",
    "dirname = '/home/msilvafe/Documents/SO/umux/Noise/'"
   ]
  },
  {
   "cell_type": "markdown",
   "metadata": {},
   "source": [
    "Initialize Constants"
   ]
  },
  {
   "cell_type": "code",
   "execution_count": 4,
   "metadata": {},
   "outputs": [],
   "source": [
    "k_b = 1.38e-23 #k Boltzmann [J/K]\n",
    "phi_0 = 2.067833831e-15 #Flux Quantum in [Wb]\n",
    "Ntones_MF = 1792.\n",
    "Ntones_MF_db = 10*np.log10(Ntones_MF)\n",
    "Ntones_HF = 1792.\n",
    "Ntones_HF_db = 10*np.log10(Ntones_HF)\n",
    "Ntones_LF = 1195.\n",
    "Ntones_LF_db = 10*np.log10(Ntones_LF)\n",
    "Ntones = 2000.\n",
    "Ntones_db = 10*np.log10(Ntones)\n",
    "N_MF = 12\n",
    "N_HF = 6\n",
    "N_LF = 3\n",
    "Ntones_tot = N_MF*Ntones_MF+N_HF*Ntones_HF+N_LF*Ntones_LF\n",
    "Ntones_tot_db = 10*np.log10(Ntones_tot)\n",
    "Lambda = 0.333\n",
    "dfdOhi0 = 2.17e5 # Hz/Phi_0\n",
    "fmin = 4e9\n",
    "fmax = 8e9\n",
    "Q = 5e4\n",
    "dfdI = 4.59e-2 # Hz/pA\n",
    "LJ = 6.69e-11\n",
    "#Inductance Matrix\n",
    "Lsqsq = 2.23e-11\n",
    "Lsqfr = 2.71e-11\n",
    "Lsqin=2.28e-10\n",
    "Lsqres=1.35e-12\n",
    "Lfrfr=6.49e-10\n",
    "Lfrin=3.96e-10\n",
    "Lfrres=2.5e-12\n",
    "Linin=5.48e-9\n",
    "Linres=1.86e-11\n",
    "Lresres=2.28e-10\n",
    "Psmurfmax=0.\n",
    "LNA_TN= [2.1,40.,191.]"
   ]
  },
  {
   "cell_type": "markdown",
   "metadata": {},
   "source": [
    "Define Function for Reading In Coax Attenuation Data and Fit for slope and intercept"
   ]
  },
  {
   "cell_type": "code",
   "execution_count": 5,
   "metadata": {},
   "outputs": [],
   "source": [
    "def readcoax(fname,f_eval):\n",
    "    d = genfromtxt(fname, delimiter=',')\n",
    "    slope_T1=(d[2,1]-d[1,1])/(d[2,0]-d[1,0])\n",
    "    slope_T2=(d[2,2]-d[1,2])/(d[2,0]-d[1,0])\n",
    "    int_T1=d[1,1]-slope_T1*d[1,0]\n",
    "    int_T2=d[1,2]-slope_T2*d[1,0]\n",
    "    dT1_feval=slope_T1*f_eval+int_T1\n",
    "    dT2_feval=slope_T2*f_eval+int_T2\n",
    "    slope = (dT1_feval-dT2_feval)/(d[0,1]-d[0,2])\n",
    "    intercept = dT1_feval - slope*d[0,1]\n",
    "    return [slope, intercept]"
   ]
  },
  {
   "cell_type": "markdown",
   "metadata": {},
   "source": [
    "Read in config file for input coax chain"
   ]
  },
  {
   "cell_type": "code",
   "execution_count": 10,
   "metadata": {},
   "outputs": [],
   "source": [
    "c = pd.read_csv(dirname+'InputChain.csv', delimiter=',')\n",
    "d = np.transpose(c.values)\n",
    "compin = d[0,:]\n",
    "lossin = d[1,:]\n",
    "Tavgin = (d[2,:]+d[3,:])/2\n",
    "coax_YNin = d[4,:]\n",
    "coax_typein = d[5,:]\n",
    "coax_lin = d[6,:]\n",
    "for i in range(len(compin)):\n",
    "    if coax_YNin[i] == 'Y':\n",
    "        t = readcoax(dirname+coax_typein[i]+'.csv',8)\n",
    "        lossin[i] = (t[0]*Tavgin[i]+t[1])*coax_lin[i]"
   ]
  },
  {
   "cell_type": "markdown",
   "metadata": {},
   "source": [
    "Read in config file for output coax chain"
   ]
  },
  {
   "cell_type": "code",
   "execution_count": 11,
   "metadata": {},
   "outputs": [],
   "source": [
    "c = pd.read_csv(dirname+'OutputChain.csv',delimiter=',')\n",
    "d = np.transpose(c.values)\n",
    "compout = d[0,:]\n",
    "lossout = d[1,:]\n",
    "Tavgout = (d[2,:]+d[3,:])/2\n",
    "coax_YNout = d[4,:]\n",
    "coax_typeout = d[5,:]\n",
    "coax_lout = d[6,:]\n",
    "Gtot = 0.\n",
    "for i in range(len(compout)):\n",
    "    if coax_YNout[i] == 'Y':\n",
    "        t = readcoax(dirname+coax_typeout[i]+'.csv',8)\n",
    "        lossout[i] = (t[0]*Tavgout[i]+t[1])*coax_lout[i]"
   ]
  },
  {
   "cell_type": "markdown",
   "metadata": {},
   "source": [
    "Define Function to refer noise temp through the chain"
   ]
  },
  {
   "cell_type": "code",
   "execution_count": 12,
   "metadata": {},
   "outputs": [],
   "source": [
    "def ref_noise_temp(loss,temp,T0,p=False):\n",
    "    T=T0\n",
    "    loss_lin = 10.**(-loss/10.)\n",
    "    for i in range(len(loss)):\n",
    "        Tp = T*loss_lin[i] + temp[i]*(1-loss_lin[i])\n",
    "        T=Tp\n",
    "    if p==True:\n",
    "        print(T0, 'K Noise Temp Referred to Feedline: ',T,' K')    \n",
    "    return T"
   ]
  },
  {
   "cell_type": "markdown",
   "metadata": {},
   "source": [
    "Calculate 300K referred"
   ]
  },
  {
   "cell_type": "code",
   "execution_count": 15,
   "metadata": {},
   "outputs": [
    {
     "name": "stdout",
     "output_type": "stream",
     "text": [
      "300K referred = 1.53 K\n"
     ]
    }
   ],
   "source": [
    "T_300K_Referred = ref_noise_temp(lossin,Tavgin,300.)\n",
    "print('300K referred =', np.round(T_300K_Referred,2), 'K')"
   ]
  },
  {
   "cell_type": "markdown",
   "metadata": {},
   "source": [
    "Define Function to Calculate the Power Referred to the Feedline"
   ]
  },
  {
   "cell_type": "code",
   "execution_count": 17,
   "metadata": {
    "scrolled": true
   },
   "outputs": [
    {
     "name": "stdout",
     "output_type": "stream",
     "text": [
      "Maximum Power at Feedline Given SMuRF Limits =  -65.22 dB\n"
     ]
    }
   ],
   "source": [
    "def p_referred_pertone(loss, Pin, p=False):\n",
    "    Pout = Pin - sum(loss)\n",
    "    if p==True:\n",
    "        print('Power at Feedline: ',Pout,'dB')\n",
    "    return Pout\n",
    "#As an example we will print the power per tone at the feedline for \n",
    "#the maximum output of SMuRF \n",
    "Pfeed = p_referred_pertone(lossin,Psmurfmax-Ntones_db)\n",
    "print('Maximum Power at Feedline Given SMuRF Limits = ',np.round(Pfeed,2),'dB')"
   ]
  },
  {
   "cell_type": "markdown",
   "metadata": {},
   "source": [
    "Define Function to Calculate Noise from DAC"
   ]
  },
  {
   "cell_type": "code",
   "execution_count": 36,
   "metadata": {},
   "outputs": [],
   "source": [
    "def refer_phase_noise(dBc,loss,temp,Pin,k_b = k_b, Q = Q, f = fmax,p=False):\n",
    "    T_out = (10.**((Pin-dBc)/10)*.001)/k_b\n",
    "    T_feed = ref_noise_temp(loss,temp,T_out)\n",
    "    P_feed = p_referred_pertone(loss,Pin)\n",
    "    dBc_feed = 10*np.log10(k_b*T_feed/.001) - P_feed\n",
    "    Sphi = 10**(dBc_feed/10)\n",
    "    Sf = Sphi*(f/(2*Q))**2\n",
    "    NEI = np.sqrt(Sf/(dfdI**2))\n",
    "    if p == True:\n",
    "        print('Phase Noise of: ',dBc, 'dBc/Hz referred to NEI:',NEI)\n",
    "    return NEI"
   ]
  },
  {
   "cell_type": "markdown",
   "metadata": {},
   "source": [
    "Define Function to Calculate the Noise Temperatures Referred to LNA-1 input (i.e. 300K noise referred to feed, LNA chain referred to LNA-1 input, pseudo noise referred to LNA-1 input, etc.)"
   ]
  },
  {
   "cell_type": "code",
   "execution_count": 19,
   "metadata": {},
   "outputs": [],
   "source": [
    "def TN_to_NEI(T,LJ=LJ,f0=fmin,Min=Lsqin,phi_0=phi_0,alpha=1./2.,p=False):\n",
    "    NEI = (1./np.sqrt(alpha))*np.sqrt((4.*k_b*T*LJ)/(pi*f0))*(1/Min)\n",
    "    if p == True:\n",
    "        print('Noise temp', T, 'K @ LNA-1 input referred to NEI:',np.round(NEI/1e-12,2),'pA/rt(Hz)')\n",
    "    return NEI/1e-12"
   ]
  },
  {
   "cell_type": "markdown",
   "metadata": {},
   "source": [
    "Define Function to Calculate the HEMT Pseudo Noise Floor from 3rd Order Nonlinearity"
   ]
  },
  {
   "cell_type": "code",
   "execution_count": 20,
   "metadata": {},
   "outputs": [],
   "source": [
    "def Pseudo_Noise_Floor(Pin,loss,Dip,Ntones=Ntones,k_b=k_b):\n",
    "    BWNL = 10*np.log10(12e9)\n",
    "    NNLtones = 10*np.log10(Ntones*(Ntones-2))\n",
    "    P_LNA1 = p_referred_pertone(loss,Pin)-Dip\n",
    "    P_perspur_out = 3.*P_LNA1+100. #This comes from IP3 Measurements\n",
    "    P_NL_out = P_perspur_out+NNLtones\n",
    "    PNP_out = P_NL_out-BWNL\n",
    "    PNP_in = PNP_out - 39 \n",
    "    #This comes from the Gain of the 2 stage amplifiers shouldn't hard code this in the long run\n",
    "    PNP_K = (10.**(PNP_in/10.)*.001)/k_b\n",
    "    PNP_NEI = TN_to_NEI(PNP_K)\n",
    "    return(PNP_NEI)"
   ]
  },
  {
   "cell_type": "markdown",
   "metadata": {},
   "source": [
    "Define Function to Calculate the Referred HEMT Noise"
   ]
  },
  {
   "cell_type": "code",
   "execution_count": 25,
   "metadata": {},
   "outputs": [],
   "source": [
    "def Total_Chain_Noise(loss_out):\n",
    "    TNtot = 0.\n",
    "    Gaintot_lin = 10**(np.sum((-loss_out))/10.)\n",
    "    j=0\n",
    "    loss_lin = 10.**(-loss_out/10.)\n",
    "    for i in range(len(loss_out)):\n",
    "        if loss_out[i]>0:\n",
    "            TNtot = TNtot*loss_lin[i] + Tavgout[i]*(1.-loss_lin[i])\n",
    "        if loss_out[i]<0:\n",
    "            TNtot = (TNtot+LNA_TN[j])*loss_lin[i]\n",
    "            j=j+1;\n",
    "    TNout = TNtot/Gaintot_lin\n",
    "    return TNout"
   ]
  },
  {
   "cell_type": "code",
   "execution_count": 26,
   "metadata": {},
   "outputs": [
    {
     "data": {
      "text/plain": [
       "3.3638684980029736"
      ]
     },
     "execution_count": 26,
     "metadata": {},
     "output_type": "execute_result"
    }
   ],
   "source": [
    "Total_Chain_Noise(lossout)"
   ]
  },
  {
   "cell_type": "markdown",
   "metadata": {},
   "source": [
    "Define Function to add noise in quadrature"
   ]
  },
  {
   "cell_type": "code",
   "execution_count": 29,
   "metadata": {},
   "outputs": [],
   "source": [
    "def quad_sum(a,b):\n",
    "    out=np.sqrt(a**2+b**2)\n",
    "    return out"
   ]
  },
  {
   "cell_type": "markdown",
   "metadata": {},
   "source": [
    "Define Function to Sum All Noise Sources"
   ]
  },
  {
   "cell_type": "code",
   "execution_count": 41,
   "metadata": {},
   "outputs": [],
   "source": [
    "def Calc_All_Noise(lossin = lossin, Tavgin = Tavgin, loss_out = lossout):\n",
    "    N_PNP = Pseudo_Noise_Floor(-38,lossin,10)\n",
    "    N_DAC = refer_phase_noise(101,lossin,Tavgin,-38)\n",
    "    N_300K = TN_to_NEI(ref_noise_temp(lossin,Tavgin,300.))\n",
    "    N_HEMT_TN = TN_to_NEI(Total_Chain_Noise(lossout))\n",
    "    N_TES_bias = 10. #This number is just by design\n",
    "    NEI_tot = quad_sum(quad_sum(quad_sum(N_PNP,N_DAC),quad_sum(N_300K,N_HEMT_TN)),N_TES_bias)\n",
    "    return [N_PNP,N_DAC,N_300K,N_HEMT_TN,N_TES_bias],NEI_tot"
   ]
  },
  {
   "cell_type": "code",
   "execution_count": 42,
   "metadata": {},
   "outputs": [
    {
     "data": {
      "text/plain": [
       "([0.5454726383664535,\n",
       "  15.552910056806372,\n",
       "  4.1623729592648155,\n",
       "  6.167047897569229,\n",
       "  10.0],\n",
       " 19.93861529939447)"
      ]
     },
     "execution_count": 42,
     "metadata": {},
     "output_type": "execute_result"
    }
   ],
   "source": [
    "Calc_All_Noise()"
   ]
  },
  {
   "cell_type": "markdown",
   "metadata": {},
   "source": [
    "Now we have the framework to iterate through attenuators and look at the impact on total noise"
   ]
  },
  {
   "cell_type": "code",
   "execution_count": null,
   "metadata": {},
   "outputs": [],
   "source": []
  }
 ],
 "metadata": {
  "kernelspec": {
   "display_name": "Python 3",
   "language": "python",
   "name": "python3"
  },
  "language_info": {
   "codemirror_mode": {
    "name": "ipython",
    "version": 3
   },
   "file_extension": ".py",
   "mimetype": "text/x-python",
   "name": "python",
   "nbconvert_exporter": "python",
   "pygments_lexer": "ipython3",
   "version": "3.6.7"
  }
 },
 "nbformat": 4,
 "nbformat_minor": 2
}
